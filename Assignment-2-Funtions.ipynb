{
 "cells": [
  {
   "cell_type": "code",
   "execution_count": 1,
   "metadata": {},
   "outputs": [],
   "source": [
    "# %load assignment2.py"
   ]
  },
  {
   "cell_type": "code",
   "execution_count": 2,
   "metadata": {},
   "outputs": [],
   "source": [
    "# D. verbing\n",
    "# Given a string, if its length is at least 3,\n",
    "# add 'ing' to its end.\n",
    "# Unless it already ends in 'ing', in which case\n",
    "# add 'ly' instead.\n",
    "# If the string length is less than 3, leave it unchanged.\n",
    "# Return the resulting string.\n",
    "def verbing(s):\n",
    "    if len(s) == 3 or len(s) == 4:\n",
    "        return s + 'ing'\n",
    "    if \"ing\" in s:\n",
    "        return s + \"ly\"\n",
    "    if len(s) <=2:\n",
    "        return s"
   ]
  },
  {
   "cell_type": "code",
   "execution_count": 3,
   "metadata": {},
   "outputs": [],
   "source": [
    "# E. not_bad\n",
    "# Given a string, find the first appearance of the\n",
    "# substring 'not' and 'bad'. If the 'bad' follows\n",
    "# the 'not', replace the whole 'not'...'bad' substring\n",
    "# with 'good'.\n",
    "# Return the resulting string.\n",
    "# So 'This dinner is not that bad!' yields:\n",
    "# This dinner is good!\n",
    "def not_bad(s):\n",
    "    a = s.find('not')\n",
    "    b = s.find('bad')\n",
    "    if a < b:\n",
    "        s = s.replace(s[a:(b+3)],'good')\n",
    "    return s\n",
    "#a = 14 and b = 21 find() method finds index number in integer\n",
    "#     if 'not' and 'bad' in s:\n",
    "#         return s.replace('good','not')"
   ]
  },
  {
   "cell_type": "code",
   "execution_count": 122,
   "metadata": {},
   "outputs": [],
   "source": [
    "# F. front_back\n",
    "# Consider dividing a string into two halves.\n",
    "# If the length is even, the front and back halves are the same length.\n",
    "# If the length is odd, we'll say that the extra char goes in the front half.\n",
    "# e.g. 'abcde', the front half is 'abc', the back half 'de'.\n",
    "# Given 2 strings, a and b, return a string of the form\n",
    "#  a-front + b-front + a-back + b-back\n",
    "\n",
    "def front_back(a, b):\n",
    "    \n",
    "    a_front, a_back = a[0:(len(a) + 1)  // 2] , a[(len(a)+ 1) // 2:]\n",
    "    b_front, b_back = b[0:(len(b)+ 1) // 2] , b[(len(b)+ 1) // 2:]\n",
    "    \n",
    "    return a_front + b_front + a_back + b_back \n",
    "    "
   ]
  },
  {
   "cell_type": "code",
   "execution_count": 123,
   "metadata": {},
   "outputs": [],
   "source": [
    "def test(got, expected):\n",
    "    if got == expected:\n",
    "        prefix = ' OK '\n",
    "    else:\n",
    "        prefix = '  X '\n",
    "    print ('%s got: %s expected: %s' % (prefix, repr(got), repr(expected)))"
   ]
  },
  {
   "cell_type": "code",
   "execution_count": 124,
   "metadata": {},
   "outputs": [
    {
     "name": "stdout",
     "output_type": "stream",
     "text": [
      "verbing\n",
      " OK  got: 'hailing' expected: 'hailing'\n",
      " OK  got: 'swimingly' expected: 'swimingly'\n",
      " OK  got: 'do' expected: 'do'\n",
      "\n",
      "not_bad\n",
      " OK  got: 'This movie is good' expected: 'This movie is good'\n",
      " OK  got: 'This dinner is good!' expected: 'This dinner is good!'\n",
      " OK  got: 'This tea is not hot' expected: 'This tea is not hot'\n",
      " OK  got: \"It's bad yet not\" expected: \"It's bad yet not\"\n",
      "\n",
      "front_back\n",
      " OK  got: 'abxcdy' expected: 'abxcdy'\n",
      " OK  got: 'abcxydez' expected: 'abcxydez'\n",
      " OK  got: 'KitDontenut' expected: 'KitDontenut'\n"
     ]
    }
   ],
   "source": [
    "def main():\n",
    "    print ('verbing')\n",
    "    test(verbing('hail'), 'hailing')\n",
    "    test(verbing('swiming'), 'swimingly')\n",
    "    test(verbing('do'), 'do')\n",
    "\n",
    "    print()\n",
    "    print ('not_bad')\n",
    "    test(not_bad('This movie is not so bad'), 'This movie is good')\n",
    "    test(not_bad('This dinner is not that bad!'), 'This dinner is good!')\n",
    "    test(not_bad('This tea is not hot'), 'This tea is not hot')\n",
    "    test(not_bad(\"It's bad yet not\"), \"It's bad yet not\")\n",
    "\n",
    "    print()\n",
    "    print ('front_back')\n",
    "    test(front_back('abcd', 'xy'), 'abxcdy')\n",
    "    test(front_back('abcde', 'xyz'), 'abcxydez')\n",
    "    test(front_back('Kitten', 'Donut'), 'KitDontenut')\n",
    "\n",
    "if __name__ == '__main__':\n",
    "    main()"
   ]
  },
  {
   "cell_type": "code",
   "execution_count": null,
   "metadata": {},
   "outputs": [],
   "source": []
  },
  {
   "cell_type": "code",
   "execution_count": null,
   "metadata": {},
   "outputs": [],
   "source": []
  }
 ],
 "metadata": {
  "kernelspec": {
   "display_name": "Python 3",
   "language": "python",
   "name": "python3"
  },
  "language_info": {
   "codemirror_mode": {
    "name": "ipython",
    "version": 3
   },
   "file_extension": ".py",
   "mimetype": "text/x-python",
   "name": "python",
   "nbconvert_exporter": "python",
   "pygments_lexer": "ipython3",
   "version": "3.6.4"
  }
 },
 "nbformat": 4,
 "nbformat_minor": 2
}
